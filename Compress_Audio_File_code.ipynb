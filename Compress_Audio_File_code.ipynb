{
  "nbformat": 4,
  "nbformat_minor": 0,
  "metadata": {
    "colab": {
      "provenance": [],
      "authorship_tag": "ABX9TyPqiXDyoxC+VP9hqhJ3ZuV+",
      "include_colab_link": true
    },
    "kernelspec": {
      "name": "python3",
      "display_name": "Python 3"
    },
    "language_info": {
      "name": "python"
    }
  },
  "cells": [
    {
      "cell_type": "markdown",
      "metadata": {
        "id": "view-in-github",
        "colab_type": "text"
      },
      "source": [
        "<a href=\"https://colab.research.google.com/github/Disha-gits/SCHEMACHANGE_CICD/blob/main/Compress_Audio_File_code.ipynb\" target=\"_parent\"><img src=\"https://colab.research.google.com/assets/colab-badge.svg\" alt=\"Open In Colab\"/></a>"
      ]
    },
    {
      "cell_type": "code",
      "source": [
        "!pip install pydub"
      ],
      "metadata": {
        "colab": {
          "base_uri": "https://localhost:8080/"
        },
        "id": "JUR1z_i0UjGc",
        "outputId": "8cf2b358-1492-400a-cc40-f9ba93072691"
      },
      "execution_count": null,
      "outputs": [
        {
          "output_type": "stream",
          "name": "stdout",
          "text": [
            "Collecting pydub\n",
            "  Downloading pydub-0.25.1-py2.py3-none-any.whl (32 kB)\n",
            "Installing collected packages: pydub\n",
            "Successfully installed pydub-0.25.1\n"
          ]
        }
      ]
    },
    {
      "cell_type": "code",
      "execution_count": null,
      "metadata": {
        "colab": {
          "base_uri": "https://localhost:8080/"
        },
        "id": "GOQmbay4T65n",
        "outputId": "e138a4d5-63f5-47f9-c840-708121726721"
      },
      "outputs": [
        {
          "output_type": "stream",
          "name": "stdout",
          "text": [
            "Audio compressed and saved to: /content/Earnings_compressed_audio.wav\n"
          ]
        }
      ],
      "source": [
        "from pydub import AudioSegment\n",
        "import os\n",
        "\n",
        "# Load the audio file\n",
        "input_audio_path = \"/content/EarningsCall.wav\"\n",
        "output_audio_path = \"/content/Earnings_compressed_audio.wav\"\n",
        "\n",
        "# Load the audio\n",
        "audio = AudioSegment.from_wav(input_audio_path)\n",
        "\n",
        "# Set the desired compression parameters\n",
        "compressed_audio = audio.set_frame_rate(16000)  # Example: Set the frame rate to 16000 Hz\n",
        "compressed_audio = compressed_audio.set_channels(1)  # Example: Set mono (1 channel) audio\n",
        "\n",
        "# Export the compressed audio\n",
        "compressed_audio.export(output_audio_path, format=\"wav\")\n",
        "\n",
        "print(\"Audio compressed and saved to:\", output_audio_path)\n"
      ]
    }
  ]
}