{
  "nbformat": 4,
  "nbformat_minor": 0,
  "metadata": {
    "colab": {
      "provenance": [],
      "authorship_tag": "ABX9TyPNZ2uBFFblZ3MR8x8Z6CU/",
      "include_colab_link": true
    },
    "kernelspec": {
      "name": "python3",
      "display_name": "Python 3"
    },
    "language_info": {
      "name": "python"
    }
  },
  "cells": [
    {
      "cell_type": "markdown",
      "metadata": {
        "id": "view-in-github",
        "colab_type": "text"
      },
      "source": [
        "<a href=\"https://colab.research.google.com/github/Disha-gits/SCHEMACHANGE_CICD/blob/main/audio_summerization.ipynb\" target=\"_parent\"><img src=\"https://colab.research.google.com/assets/colab-badge.svg\" alt=\"Open In Colab\"/></a>"
      ]
    },
    {
      "cell_type": "code",
      "source": [
        "\n",
        "!pip install openai\n",
        "!pip install python-docx"
      ],
      "metadata": {
        "id": "VvHAwKtgMa55"
      },
      "execution_count": null,
      "outputs": []
    },
    {
      "cell_type": "code",
      "execution_count": 4,
      "metadata": {
        "id": "VmLngwRnL0ly"
      },
      "outputs": [],
      "source": [
        "import openai\n",
        "from docx import Document\n",
        "\n",
        "def transcribe_audio(audio_file_path):\n",
        "    with open(audio_file_path, 'rb') as audio_file:\n",
        "        transcription = openai.Audio.transcribe(\"whisper-1\", audio_file)\n",
        "    return transcription['text']"
      ]
    },
    {
      "cell_type": "code",
      "source": [
        "def meeting_minutes(transcription):\n",
        "    abstract_summary = abstract_summary_extraction(transcription)\n",
        "    key_points = key_points_extraction(transcription)\n",
        "    action_items = action_item_extraction(transcription)\n",
        "    sentiment = sentiment_analysis(transcription)\n",
        "    return {\n",
        "        'abstract_summary': abstract_summary,\n",
        "        'key_points': key_points,\n",
        "        'action_items': action_items,\n",
        "        'sentiment': sentiment\n",
        "    }"
      ],
      "metadata": {
        "id": "16LMvQqaOdYA"
      },
      "execution_count": 5,
      "outputs": []
    },
    {
      "cell_type": "code",
      "source": [
        "def abstract_summary_extraction(transcription):\n",
        "    response = openai.ChatCompletion.create(\n",
        "        model=\"gpt-3.5-turbo\",\n",
        "        temperature=0,\n",
        "        messages=[\n",
        "            {\n",
        "                \"role\": \"system\",\n",
        "                \"content\": \"You are a highly skilled AI trained in language comprehension and summarization. I would like you to read the following text and summarize it into a concise abstract paragraph. Aim to retain the most important points, providing a coherent and readable summary that could help a person understand the main points of the discussion without needing to read the entire text. Please avoid unnecessary details or tangential points.\"\n",
        "            },\n",
        "            {\n",
        "                \"role\": \"user\",\n",
        "                \"content\": transcription\n",
        "            }\n",
        "        ]\n",
        "    )\n",
        "    return response['choices'][0]['message']['content']"
      ],
      "metadata": {
        "id": "QlUi5VDfOigJ"
      },
      "execution_count": 17,
      "outputs": []
    },
    {
      "cell_type": "code",
      "source": [
        "\n",
        "def key_points_extraction(transcription):\n",
        "    response = openai.ChatCompletion.create(\n",
        "        model=\"gpt-3.5-turbo\",\n",
        "        temperature=0,\n",
        "        messages=[\n",
        "            {\n",
        "                \"role\": \"system\",\n",
        "                \"content\": \"You are a proficient AI with a specialty in distilling information into key points. Based on the following text, identify and list the main points that were discussed or brought up. These should be the most important ideas, findings, or topics that are crucial to the essence of the discussion. Your goal is to provide a list that someone could read to quickly understand what was talked about.\"\n",
        "            },\n",
        "            {\n",
        "                \"role\": \"user\",\n",
        "                \"content\": transcription\n",
        "            }\n",
        "        ]\n",
        "    )\n",
        "    return response['choices'][0]['message']['content']"
      ],
      "metadata": {
        "id": "C-r4uV2POvv7"
      },
      "execution_count": 18,
      "outputs": []
    },
    {
      "cell_type": "code",
      "source": [
        "\n",
        "def action_item_extraction(transcription):\n",
        "    response = openai.ChatCompletion.create(\n",
        "        model=\"gpt-3.5-turbo\",\n",
        "        temperature=0,\n",
        "        messages=[\n",
        "            {\n",
        "                \"role\": \"system\",\n",
        "                \"content\": \"You are an AI expert in analyzing conversations and extracting action items. Please review the text and identify any tasks, assignments, or actions that were agreed upon or mentioned as needing to be done. These could be tasks assigned to specific individuals, or general actions that the group has decided to take. Please list these action items clearly and concisely.\"\n",
        "            },\n",
        "            {\n",
        "                \"role\": \"user\",\n",
        "                \"content\": transcription\n",
        "            }\n",
        "        ]\n",
        "    )\n",
        "    return response['choices'][0]['message']['content']"
      ],
      "metadata": {
        "id": "CfeS2-nzO4F3"
      },
      "execution_count": 19,
      "outputs": []
    },
    {
      "cell_type": "code",
      "source": [
        "def sentiment_analysis(transcription):\n",
        "    response = openai.ChatCompletion.create(\n",
        "        model=\"gpt-3.5-turbo\",\n",
        "        temperature=0,\n",
        "        messages=[\n",
        "            {\n",
        "                \"role\": \"system\",\n",
        "                \"content\": \"As an AI with expertise in language and emotion analysis, your task is to analyze the sentiment of the following text. Please consider the overall tone of the discussion, the emotion conveyed by the language used, and the context in which words and phrases are used. Indicate whether the sentiment is generally positive, negative, or neutral, and provide brief explanations for your analysis where possible.\"\n",
        "            },\n",
        "            {\n",
        "                \"role\": \"user\",\n",
        "                \"content\": transcription\n",
        "            }\n",
        "        ]\n",
        "    )\n",
        "    return response['choices'][0]['message']['content']"
      ],
      "metadata": {
        "id": "fHy0JmbLO8RS"
      },
      "execution_count": 20,
      "outputs": []
    },
    {
      "cell_type": "code",
      "source": [
        "def save_as_docx(minutes, filename):\n",
        "    doc = Document()\n",
        "    for key, value in minutes.items():\n",
        "        # Replace underscores with spaces and capitalize each word for the heading\n",
        "        heading = ' '.join(word.capitalize() for word in key.split('_'))\n",
        "        doc.add_heading(heading, level=1)\n",
        "        doc.add_paragraph(value)\n",
        "        # Add a line break between sections\n",
        "        doc.add_paragraph()\n",
        "    doc.save(filename)"
      ],
      "metadata": {
        "id": "4ENwtx3EPLFQ"
      },
      "execution_count": 21,
      "outputs": []
    },
    {
      "cell_type": "code",
      "source": [
        "openai.api_key = 'YOUR_API_KEY'\n"
      ],
      "metadata": {
        "id": "YUqWE5dCPviH"
      },
      "execution_count": null,
      "outputs": []
    },
    {
      "cell_type": "code",
      "source": [
        "audio_file_path = \"/content/Earnings_compressed_audio.wav\"\n",
        "transcription = transcribe_audio(audio_file_path)\n",
        "minutes = meeting_minutes(transcription)\n",
        "print(minutes)\n",
        "\n",
        "save_as_docx(minutes, 'meeting_minutes.docx')"
      ],
      "metadata": {
        "colab": {
          "base_uri": "https://localhost:8080/"
        },
        "id": "XRUD_921PUH6",
        "outputId": "6982645e-2ba5-4739-9442-71b0fcdfd0a6"
      },
      "execution_count": 22,
      "outputs": [
        {
          "output_type": "stream",
          "name": "stdout",
          "text": [
            "{'abstract_summary': \"Fintech Plus had a strong Q2 in 2023, with a revenue of $125 million, a 25% increase from the previous year. The company's gross profit margin was 58%, and EBITDA reached $37.5 million, with a 30% margin. Net income rose to $16 million. Fintech Plus expanded its high-yield savings product line and introduced a new RoboAdvisor platform, leading to substantial growth in the total addressable market. The company diversified its asset-backed securities portfolio, invested in AAA-rated corporate bonds, and had a healthy balance sheet with $1.5 billion in assets and $600 million in equity. Customer acquisition costs dropped by 15%, and lifetime value grew by 25%. Fintech Plus had a value-at-risk model in place and a conservative approach to leverage management. The forecast for the next quarter is positive, with expected revenue of $135 million and 8% quarter-over-quarter growth. The upcoming IPO of subsidiary Pay Plus is expected to raise $200 million, enhancing liquidity and supporting growth strategies.\", 'key_points': '- Q2 2023 earnings call for Fintech Plus Sync\\n- Revenue of $125 million, a 25% increase YoY\\n- Gross profit margin of 58% due to scalable business model\\n- EBITDA of $37.5 million, 30% EBITDA margin\\n- Net income for Q2 rose to $16 million from $10 million in Q2 2022\\n- Total addressable market growth from high-yield savings product line and RoboAdvisor platform\\n- Diversification of asset-backed securities portfolio\\n- Investment in collateralized debt obligations, residential mortgage-backed securities, and AAA-rated corporate bonds\\n- Total assets of $1.5 billion, total liabilities of $900 million, equity base of $600 million\\n- Debt-to-equity ratio of 1.5\\n- Substantial organic user growth, customer acquisition costs dropped by 15%, lifetime value grew by 25%\\n- LTVCAC ratio of 3.5%\\n- Value-at-risk model with a 99% confidence level indicating maximum loss of $5 million in the next trading day\\n- Conservative approach to leverage management, tier-one capital ratio of 12.5%\\n- Positive forecast for the coming quarter with revenue expected to be around $135 million and 8% QoQ growth\\n- Upcoming IPO of fintech subsidiary, Pay Plus, expected to raise $200 million\\n- Thanking shareholders for their continued faith and looking forward to a successful Q3.', 'action_items': \"Based on the conversation, there are no specific tasks, assignments, or actions mentioned or agreed upon. The CEO is providing an overview of the company's performance and future plans, but no specific action items are discussed.\", 'sentiment': \"The sentiment of the text is generally positive. The language used throughout the text is optimistic and confident, highlighting the company's achievements and positive financial performance. The CEO emphasizes the stellar Q2 results, including a significant increase in revenue, gross profit margin, EBITDA, and net income. The expansion of the company's product line and investment portfolio is also highlighted as positive developments. The CEO mentions a solid balance sheet, healthy debt-to-equity ratio, and positive organic user growth. The risk management measures and forecast for the coming quarter are also positive. Overall, the language and context convey a positive sentiment about the company's performance and future prospects.\"}\n"
          ]
        }
      ]
    },
    {
      "cell_type": "code",
      "source": [],
      "metadata": {
        "id": "_Hjh7yU2WQTi"
      },
      "execution_count": null,
      "outputs": []
    }
  ]
}